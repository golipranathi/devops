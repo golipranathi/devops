{
  "cells": [
    {
      "cell_type": "markdown",
      "metadata": {
        "id": "view-in-github",
        "colab_type": "text"
      },
      "source": [
        "<a href=\"https://colab.research.google.com/github/golipranathi/devops/blob/main/Gangula_Pramod_Assignment_01.ipynb\" target=\"_parent\"><img src=\"https://colab.research.google.com/assets/colab-badge.svg\" alt=\"Open In Colab\"/></a>"
      ]
    },
    {
      "cell_type": "markdown",
      "metadata": {
        "id": "Ryk8D1Q4Wsrp"
      },
      "source": [
        "# **INFO5731 Assignment One**"
      ]
    },
    {
      "cell_type": "markdown",
      "metadata": {
        "id": "90_NR8c5XGWc"
      },
      "source": [
        "# Question 1\n",
        "\n",
        "(20 points). Write a Python program to generate 12 random numbers between 1 and 100. Sort the list of numbers in ascending order and print it out. Sort the list of numbers in descending order and print it out. Calculate the average for the group and print it out."
      ]
    },
    {
      "cell_type": "code",
      "execution_count": 13,
      "metadata": {
        "colab": {
          "base_uri": "https://localhost:8080/"
        },
        "id": "5QX6bJjGWXY9",
        "outputId": "a587c614-e0de-4dc7-a99c-437a7529b4e5"
      },
      "outputs": [
        {
          "output_type": "stream",
          "name": "stdout",
          "text": [
            "Random Numbers: [80, 11, 98, 29, 6, 99, 48, 91, 91, 89, 11, 19]\n",
            "Ascending Sorted: [6, 11, 11, 19, 29, 48, 80, 89, 91, 91, 98, 99]\n",
            "Descending Sorted: [99, 98, 91, 91, 89, 80, 48, 29, 19, 11, 11, 6]\n",
            "Average: 56.0\n"
          ]
        }
      ],
      "source": [
        "import random\n",
        "rand_nums = [random.randint(1, 100) for _ in range(12)]\n",
        "asc_sorted = sorted(rand_nums)\n",
        "desc_sorted = sorted(rand_nums, reverse=True)\n",
        "average = sum(rand_nums) / len(rand_nums)\n",
        "print(\"Random Numbers:\", rand_nums)\n",
        "print(\"Ascending Sorted:\", asc_sorted)\n",
        "print(\"Descending Sorted:\", desc_sorted)\n",
        "print(\"Average:\", average)\n",
        "\n",
        "\n"
      ]
    },
    {
      "cell_type": "markdown",
      "metadata": {
        "id": "1F_PZdH9Sh49"
      },
      "source": [
        "# Question 2\n",
        "(25 points). Write a program that will do the following string formatting tasks:\n",
        "\n",
        "(1) Ask the user to enter two sentences.\n",
        "\n",
        "(2) Make each sentence into a list. Each element in the list should correspond to a word in the sentence. For example, if the sentence is \"Alas! Am I alive? This is my first python program\", the program should print out ['Alas, '!', 'Am', 'I', 'alive, '?', 'This', 'is', 'my', 'first', 'python', 'program'].\n",
        "\n",
        "(3) Compare the two sentences. Print out a list of words that occur in both sentences.\n",
        "\n",
        "(4) Remove any punctuation from the sentence and print it back out. It should remove at least the following characters, but it can remove more: period(“.”), comma (“,”), semicolon (“;”), and colon (“:”)\n",
        "\n",
        "(5) Count the number of vowels in the sentences. Print out each vowel and the number of times it appears in the sentences, such as: a:2, e:1, i:0, etc"
      ]
    },
    {
      "cell_type": "code",
      "execution_count": 14,
      "metadata": {
        "id": "Y0oOSlsOS0cq",
        "colab": {
          "base_uri": "https://localhost:8080/"
        },
        "outputId": "14f469c9-0d74-4d37-c97d-0752cbcfba22"
      },
      "outputs": [
        {
          "output_type": "stream",
          "name": "stdout",
          "text": [
            "Enter the first sentence: United States\n",
            "Enter the second sentence: Pramod\n",
            "\n",
            "(2) Words in sentences as lists:\n",
            "Sentence 1: ['United', 'States']\n",
            "Sentence 2: ['Pramod']\n",
            "\n",
            "(3) Common words in both sentences:\n",
            "[]\n",
            "\n",
            "(4) Sentences with punctuation removed:\n",
            "Cleaned Sentence 1: United States\n",
            "Cleaned Sentence 2: Pramod\n",
            "\n",
            "(5) Vowel counts in both sentences:\n",
            "a:1,1\n",
            "e:2,0\n",
            "i:1,0\n",
            "o:0,1\n",
            "u:1,0\n",
            "A:0,0\n",
            "E:0,0\n",
            "I:0,0\n",
            "O:0,0\n",
            "U:0,0\n"
          ]
        }
      ],
      "source": [
        "\n",
        "import string\n",
        "\n",
        "s1 = input(\"Enter the first sentence: \")\n",
        "s2 = input(\"Enter the second sentence: \")\n",
        "w1 = s1.split()\n",
        "w2 = s2.split()\n",
        "com_words = list(set(w1) & set(w2))\n",
        "\n",
        "tr = str.maketrans('', '', string.punctuation)\n",
        "cl_s1 = s1.translate(tr)\n",
        "cl_s2 = s2.translate(tr)\n",
        "\n",
        "vowels = \"aeiouAEIOU\"\n",
        "vowel_count1 = {vowel: cl_s1.lower().count(vowel) for vowel in vowels}\n",
        "vowel_count2 = {vowel: cl_s2.lower().count(vowel) for vowel in vowels}\n",
        "\n",
        "\n",
        "print(\"\\n(2) Words in sentences as lists:\")\n",
        "print(\"Sentence 1:\", w1)\n",
        "print(\"Sentence 2:\", w2)\n",
        "\n",
        "print(\"\\n(3) Common words in both sentences:\")\n",
        "print(com_words)\n",
        "\n",
        "print(\"\\n(4) Sentences with punctuation removed:\")\n",
        "print(\"Cleaned Sentence 1:\", cl_s1)\n",
        "print(\"Cleaned Sentence 2:\", cl_s2)\n",
        "\n",
        "print(\"\\n(5) Vowel counts in both sentences:\")\n",
        "for vowel in vowels:\n",
        "    print(f\"{vowel}:{vowel_count1[vowel]},{vowel_count2[vowel]}\")\n",
        "\n"
      ]
    },
    {
      "cell_type": "markdown",
      "metadata": {
        "id": "CmFoI4jDS9nx"
      },
      "source": [
        "# Question 3\n",
        "\n",
        "(15 points). The formula that describes the volume V of a sphere with radius r is the following:\n",
        "\n",
        "$ V=\\frac{4}{3}\\ast\\ \\pi\\ast\\ r^3 $\n",
        "\n",
        "Write a program to calculate the value of V when r is in the range of 1–10. Output the result in the following format:\n",
        "\n",
        "\tr\tV\n",
        "\t1\t…\n",
        "\t2\t…\n",
        "\t3\t…\n"
      ]
    },
    {
      "cell_type": "code",
      "execution_count": 15,
      "metadata": {
        "id": "pEyqeioAT95b",
        "colab": {
          "base_uri": "https://localhost:8080/"
        },
        "outputId": "968cf432-db05-4354-e6a5-a7ae503a7012"
      },
      "outputs": [
        {
          "output_type": "stream",
          "name": "stdout",
          "text": [
            "When r = 1, the volume V is 4.19\n",
            "When r = 2, the volume V is 33.51\n",
            "When r = 3, the volume V is 113.10\n",
            "When r = 4, the volume V is 268.08\n",
            "When r = 5, the volume V is 523.60\n",
            "When r = 6, the volume V is 904.78\n",
            "When r = 7, the volume V is 1436.76\n",
            "When r = 8, the volume V is 2144.66\n",
            "When r = 9, the volume V is 3053.63\n",
            "When r = 10, the volume V is 4188.79\n"
          ]
        }
      ],
      "source": [
        "# Your code here\n",
        "import math\n",
        "\n",
        "\n",
        "rad_range = range(1, 11)\n",
        "for r in rad_range:\n",
        "    volume = (4/3) * math.pi * (r ** 3)\n",
        "    print(f\"When r = {r}, the volume V is {volume:.2f}\")\n",
        "\n"
      ]
    },
    {
      "cell_type": "markdown",
      "metadata": {
        "id": "z3tBE7E-Xn5X"
      },
      "source": [
        "# Question 4\n",
        "\n",
        "(40 points). In the field of Data Science, data is often formatted as a comma-delimited (CSV) file, where each line in a file corresponds to a field's value. Refer to Chapter 9 (p. 106) for more information on comma-delimited files. To answer this question, you will need to download the file [Assignment1_denton_housing.csv](https://raw.githubusercontent.com/unt-iialab/info5731-spring2022/main/assignments/Assignment1_denton_housing.csv) included with this assignment. The file [Assignment1_denton_housing.csv](https://raw.githubusercontent.com/unt-iialab/info5731-spring2022/main/assignments/Assignment1_denton_housing.csv) contains statistics about housing in the city of Denton from 2008 to 2014. Write a program to implement the following questions.\n",
        "\n",
        "(1) (10 pts) Calculate the difference in the number of Occupied Housing Units from year to year and print it. The difference must be calculated for the consecutive years such as 2008-2009, 2009-2010 etc. Finally, print the values in the ascending order.\n",
        "\n",
        "(2) (10 pts) For all the years, calculate the percentage of housing units which are vacant an occupied. Print the results in the following format:\n",
        "\n",
        "Year Vacant Housing Units Occupied Housing Units\n",
        "\n",
        "    2008  30%   70%                          \n",
        "\t2009 ----- -----\n",
        "\t2010 ----- -----\n",
        "    2011 ----- -----\n",
        "\t2012 ----- -----\n",
        "    2013 ----- -----\n",
        "\t2014 ----- -----\n",
        "  \n",
        "  \n",
        "\n",
        "(3) (10 pts) Calculate and print the valued and years in which the highest number of housing units were vacant and occupied. Print the results in the following format:  \n",
        "\n",
        "                              Year\tValue\n",
        "\tVacant Housing Units\t  -----   -----\n",
        "\tOccupied Housing Units\t-----   -----\n",
        "\n",
        "(4) (10 pts) Calculate the harmonic mean of the total housing units and print it out. You can find the information about harmonic mean here: https://ncalculators.com/statistics/harmonic-mean-calculator.htm"
      ]
    },
    {
      "cell_type": "code",
      "source": [
        "import pandas as pd\n",
        "import numpy as np\n",
        "\n",
        "df = pd.read_csv('https://raw.githubusercontent.com/unt-iialab/info5731-spring2022/main/assignments/Assignment1_denton_housing.csv')\n",
        "df['Year'] = df['year']\n",
        "df['Difference'] = df.groupby('title_field')['value'].diff()\n",
        "\n",
        "occupied_diff = df[df['title_field'] == 'Occupied Housing Units'][['Year', 'Difference']]\n",
        "occupied_diff = occupied_diff.sort_values(by='Year')\n",
        "occupied_diff = occupied_diff.reset_index(drop=True)\n",
        "\n",
        "print(\"(1) Difference in Occupied Housing Units from year to year:\")\n",
        "for idx, row in occupied_diff.iterrows():\n",
        "    if idx != 0:\n",
        "        print(f\"{occupied_diff.loc[idx-1, 'Year']} - {row['Year']}: {row['Difference']}\")\n",
        "\n",
        "total_housing_units = df[df['title_field'] == 'Total Housing Units'][['Year', 'value']].sort_values(by='Year')\n",
        "vacant_housing_units = df[df['title_field'] == 'Vacant Housing Units'][['Year', 'value']].sort_values(by='Year')\n",
        "occupied_housing_units = df[df['title_field'] == 'Occupied Housing Units'][['Year', 'value']].sort_values(by='Year')\n",
        "\n",
        "result_df = pd.DataFrame({\n",
        "    'Year': total_housing_units['Year'],\n",
        "    'Vacant Housing Units': vacant_housing_units['value'].values,\n",
        "    'Occupied Housing Units': occupied_housing_units['value'].values\n",
        "})\n",
        "\n",
        "result_df['Vacant Housing Units'] = result_df['Vacant Housing Units'].astype(int)\n",
        "result_df['Occupied Housing Units'] = result_df['Occupied Housing Units'].astype(int)\n",
        "\n",
        "result_df['Vacant Percentage'] = (result_df['Vacant Housing Units'] / result_df['Occupied Housing Units']) * 100\n",
        "result_df['Occupied Percentage'] = (result_df['Occupied Housing Units'] / result_df['Occupied Housing Units']) * 100\n",
        "\n",
        "print(\"\\n(2) Percentage of Vacant and Occupied Housing Units for all years:\")\n",
        "print(result_df[['Year', 'Vacant Housing Units', 'Occupied Housing Units']].to_string(index=False))\n"
      ],
      "metadata": {
        "colab": {
          "base_uri": "https://localhost:8080/"
        },
        "id": "pJey82g4H3Wb",
        "outputId": "f542e40d-8aca-4a94-9eb2-cd8995aef9fd"
      },
      "execution_count": 16,
      "outputs": [
        {
          "output_type": "stream",
          "name": "stdout",
          "text": [
            "(1) Difference in Occupied Housing Units from year to year:\n",
            "2008 - 2009.0: -5091.0\n",
            "2009 - 2010.0: 303.0\n",
            "2010 - 2011.0: -1404.0\n",
            "2011 - 2012.0: -1565.0\n",
            "2012 - 2013.0: -2622.0\n",
            "2013 - 2014.0: nan\n",
            "\n",
            "(2) Percentage of Vacant and Occupied Housing Units for all years:\n",
            " Year  Vacant Housing Units  Occupied Housing Units\n",
            " 2008                  4483                   36711\n",
            " 2009                  3583                   35916\n",
            " 2010                  3635                   41007\n",
            " 2011                  4213                   40704\n",
            " 2012                  3013                   42108\n",
            " 2013                  4215                   43673\n",
            " 2014                  2814                   46295\n"
          ]
        }
      ]
    },
    {
      "cell_type": "code",
      "source": [
        "#3\n",
        "\n",
        "df = pd.read_csv('https://raw.githubusercontent.com/unt-iialab/info5731-spring2022/main/assignments/Assignment1_denton_housing.csv')\n",
        "\n",
        "\n",
        "vacant_housing = df[df['title_field'] == 'Vacant Housing Units'][['year', 'value']]\n",
        "occupied_housing = df[df['title_field'] == 'Occupied Housing Units'][['year', 'value']]\n",
        "\n",
        "\n",
        "max_vacant_year = vacant_housing[vacant_housing['value'] == vacant_housing['value'].max()]['year'].values[0]\n",
        "max_vacant_value = vacant_housing['value'].max()\n",
        "\n",
        "max_occupied_year = occupied_housing[occupied_housing['value'] == occupied_housing['value'].max()]['year'].values[0]\n",
        "max_occupied_value = occupied_housing['value'].max()\n",
        "\n",
        "print(f\"Highest number of vacant housing units: {max_vacant_value} in {max_vacant_year}\")\n",
        "print(f\"Highest number of occupied housing units: {max_occupied_value} in {max_occupied_year}\")\n",
        "\n"
      ],
      "metadata": {
        "id": "TRcU6Cw3nCUx",
        "colab": {
          "base_uri": "https://localhost:8080/"
        },
        "outputId": "af55c825-aee3-4204-9416-fbe6dc00a3fd"
      },
      "execution_count": 17,
      "outputs": [
        {
          "output_type": "stream",
          "name": "stdout",
          "text": [
            "Highest number of vacant housing units: 4483 in 2008\n",
            "Highest number of occupied housing units: 46295 in 2014\n"
          ]
        }
      ]
    },
    {
      "cell_type": "code",
      "source": [
        "#4\n",
        "import statistics\n",
        "df = pd.read_csv('https://raw.githubusercontent.com/unt-iialab/info5731-spring2022/main/assignments/Assignment1_denton_housing.csv')\n",
        "total_housing_units = df[df['title_field'] == 'Total Housing Units']['value']\n",
        "harmonic_mean = statistics.harmonic_mean(total_housing_units.astype(int))\n",
        "print(f\"Harmonic mean of Total Housing Units: {harmonic_mean:.2f}\")\n"
      ],
      "metadata": {
        "id": "qU1aNtAkm7gK",
        "colab": {
          "base_uri": "https://localhost:8080/"
        },
        "outputId": "32893491-e38e-424d-82f7-4f997a056801"
      },
      "execution_count": 18,
      "outputs": [
        {
          "output_type": "stream",
          "name": "stdout",
          "text": [
            "Harmonic mean of Total Housing Units: 44398.29\n"
          ]
        }
      ]
    }
  ],
  "metadata": {
    "colab": {
      "provenance": [],
      "include_colab_link": true
    },
    "kernelspec": {
      "display_name": "Python 3 (ipykernel)",
      "language": "python",
      "name": "python3"
    },
    "language_info": {
      "codemirror_mode": {
        "name": "ipython",
        "version": 3
      },
      "file_extension": ".py",
      "mimetype": "text/x-python",
      "name": "python",
      "nbconvert_exporter": "python",
      "pygments_lexer": "ipython3",
      "version": "3.9.12"
    }
  },
  "nbformat": 4,
  "nbformat_minor": 0
}